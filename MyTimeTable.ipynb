{
 "cells": [
  {
   "cell_type": "code",
   "execution_count": 1,
   "id": "a9652dc2-70d8-4516-a631-5eb9e348e905",
   "metadata": {},
   "outputs": [
    {
     "name": "stdout",
     "output_type": "stream",
     "text": [
      "Collecting line-bot-sdk\n",
      "  Downloading line_bot_sdk-2.0.1-py2.py3-none-any.whl (83 kB)\n",
      "\u001b[K     |████████████████████████████████| 83 kB 1.7 MB/s eta 0:00:011\n",
      "\u001b[?25hCollecting aiohttp>=3.7.4\n",
      "  Downloading aiohttp-3.8.1-cp37-cp37m-macosx_10_9_x86_64.whl (570 kB)\n",
      "\u001b[K     |████████████████████████████████| 570 kB 5.9 MB/s eta 0:00:01\n",
      "\u001b[?25hRequirement already satisfied: requests>=2.0 in /Users/yurika/opt/anaconda3/envs/py37/lib/python3.7/site-packages (from line-bot-sdk) (2.26.0)\n",
      "Collecting future\n",
      "  Using cached future-0.18.2-py3-none-any.whl\n",
      "Collecting yarl<2.0,>=1.0\n",
      "  Downloading yarl-1.7.2-cp37-cp37m-macosx_10_9_x86_64.whl (120 kB)\n",
      "\u001b[K     |████████████████████████████████| 120 kB 27.9 MB/s eta 0:00:01\n",
      "\u001b[?25hCollecting frozenlist>=1.1.1\n",
      "  Downloading frozenlist-1.2.0-cp37-cp37m-macosx_10_9_x86_64.whl (80 kB)\n",
      "\u001b[K     |████████████████████████████████| 80 kB 5.0 MB/s eta 0:00:01\n",
      "\u001b[?25hRequirement already satisfied: attrs>=17.3.0 in /Users/yurika/opt/anaconda3/envs/py37/lib/python3.7/site-packages (from aiohttp>=3.7.4->line-bot-sdk) (21.2.0)\n",
      "Collecting async-timeout<5.0,>=4.0.0a3\n",
      "  Downloading async_timeout-4.0.1-py3-none-any.whl (5.7 kB)\n",
      "Collecting aiosignal>=1.1.2\n",
      "  Downloading aiosignal-1.2.0-py3-none-any.whl (8.2 kB)\n",
      "Collecting multidict<7.0,>=4.5\n",
      "  Downloading multidict-5.2.0-cp37-cp37m-macosx_10_9_x86_64.whl (45 kB)\n",
      "\u001b[K     |████████████████████████████████| 45 kB 7.1 MB/s  eta 0:00:01\n",
      "\u001b[?25hRequirement already satisfied: charset-normalizer<3.0,>=2.0 in /Users/yurika/opt/anaconda3/envs/py37/lib/python3.7/site-packages (from aiohttp>=3.7.4->line-bot-sdk) (2.0.7)\n",
      "Requirement already satisfied: typing-extensions>=3.7.4 in /Users/yurika/opt/anaconda3/envs/py37/lib/python3.7/site-packages (from aiohttp>=3.7.4->line-bot-sdk) (3.10.0.2)\n",
      "Collecting asynctest==0.13.0\n",
      "  Downloading asynctest-0.13.0-py3-none-any.whl (26 kB)\n",
      "Requirement already satisfied: certifi>=2017.4.17 in /Users/yurika/opt/anaconda3/envs/py37/lib/python3.7/site-packages (from requests>=2.0->line-bot-sdk) (2021.10.8)\n",
      "Requirement already satisfied: idna<4,>=2.5 in /Users/yurika/opt/anaconda3/envs/py37/lib/python3.7/site-packages (from requests>=2.0->line-bot-sdk) (3.3)\n",
      "Requirement already satisfied: urllib3<1.27,>=1.21.1 in /Users/yurika/opt/anaconda3/envs/py37/lib/python3.7/site-packages (from requests>=2.0->line-bot-sdk) (1.26.7)\n",
      "Installing collected packages: multidict, frozenlist, yarl, asynctest, async-timeout, aiosignal, future, aiohttp, line-bot-sdk\n",
      "Successfully installed aiohttp-3.8.1 aiosignal-1.2.0 async-timeout-4.0.1 asynctest-0.13.0 frozenlist-1.2.0 future-0.18.2 line-bot-sdk-2.0.1 multidict-5.2.0 yarl-1.7.2\n"
     ]
    }
   ],
   "source": [
    "!pip install line-bot-sdk"
   ]
  },
  {
   "cell_type": "code",
   "execution_count": 2,
   "id": "c828fdf8-079c-475e-a738-aa32db87af1f",
   "metadata": {},
   "outputs": [],
   "source": [
    "import json"
   ]
  },
  {
   "cell_type": "code",
   "execution_count": 14,
   "id": "3dc08783-22c2-4bb8-9524-4470c3086563",
   "metadata": {},
   "outputs": [],
   "source": [
    "file = open('info.json', 'r')\n",
    "info = json.load(file)"
   ]
  },
  {
   "cell_type": "code",
   "execution_count": 15,
   "id": "df36be5a-3386-46a0-a06f-4e53144ac123",
   "metadata": {},
   "outputs": [],
   "source": [
    "# info['CHANNEL_ACCESS_TOKEN']"
   ]
  },
  {
   "cell_type": "code",
   "execution_count": 16,
   "id": "996ba729-96bc-415e-a2c7-8d50211031cc",
   "metadata": {},
   "outputs": [],
   "source": [
    "from linebot import LineBotApi, WebhookHandler\n",
    "from linebot.models import TextSendMessage"
   ]
  },
  {
   "cell_type": "code",
   "execution_count": 17,
   "id": "fc039653-e48f-4660-9807-011aa2f135fb",
   "metadata": {},
   "outputs": [],
   "source": [
    "CHANNEL_ACCESS_TOKEN = info['CHANNEL_ACCESS_TOKEN']\n",
    "LINE_ACCESS_SECRET = info['LINE_ACCESS_SECRET']\n",
    "line_bot_api = LineBotApi(CHANNEL_ACCESS_TOKEN)"
   ]
  },
  {
   "cell_type": "code",
   "execution_count": 18,
   "id": "2988f326-599d-4692-ac8f-d8c45ca4fa8c",
   "metadata": {},
   "outputs": [],
   "source": [
    "import datetime"
   ]
  },
  {
   "cell_type": "code",
   "execution_count": 19,
   "id": "eb332d72",
   "metadata": {},
   "outputs": [],
   "source": [
    "handler = WebhookHandler(channel_secret=LINE_ACCESS_SECRET)"
   ]
  },
  {
   "cell_type": "code",
   "execution_count": 20,
   "id": "4873b302-7933-41cb-9152-a1549d20add9",
   "metadata": {},
   "outputs": [
    {
     "ename": "NameError",
     "evalue": "name 'MessageEvent' is not defined",
     "output_type": "error",
     "traceback": [
      "\u001b[0;31m---------------------------------------------------------------------------\u001b[0m",
      "\u001b[0;31mNameError\u001b[0m                                 Traceback (most recent call last)",
      "\u001b[0;32m/var/folders/px/hf_c65r50wl12ls7r0lgzg040000gn/T/ipykernel_3099/650345128.py\u001b[0m in \u001b[0;36m<module>\u001b[0;34m\u001b[0m\n\u001b[1;32m     20\u001b[0m \u001b[0;34m\u001b[0m\u001b[0m\n\u001b[1;32m     21\u001b[0m \u001b[0;31m# メッセージイベントの場合の処理\u001b[0m\u001b[0;34m\u001b[0m\u001b[0;34m\u001b[0m\u001b[0;34m\u001b[0m\u001b[0m\n\u001b[0;32m---> 22\u001b[0;31m \u001b[0;34m@\u001b[0m\u001b[0mhandler\u001b[0m\u001b[0;34m.\u001b[0m\u001b[0madd\u001b[0m\u001b[0;34m(\u001b[0m\u001b[0mMessageEvent\u001b[0m\u001b[0;34m,\u001b[0m \u001b[0mmessage\u001b[0m\u001b[0;34m=\u001b[0m\u001b[0mTextMessage\u001b[0m\u001b[0;34m)\u001b[0m\u001b[0;34m\u001b[0m\u001b[0;34m\u001b[0m\u001b[0m\n\u001b[0m\u001b[1;32m     23\u001b[0m \u001b[0;32mdef\u001b[0m \u001b[0mhandle_text_message\u001b[0m\u001b[0;34m(\u001b[0m\u001b[0mevent\u001b[0m\u001b[0;34m)\u001b[0m\u001b[0;34m:\u001b[0m\u001b[0;34m\u001b[0m\u001b[0;34m\u001b[0m\u001b[0m\n\u001b[1;32m     24\u001b[0m     \u001b[0;31m# メッセージでもテキストの場合はオウム返しする\u001b[0m\u001b[0;34m\u001b[0m\u001b[0;34m\u001b[0m\u001b[0;34m\u001b[0m\u001b[0m\n",
      "\u001b[0;31mNameError\u001b[0m: name 'MessageEvent' is not defined"
     ]
    }
   ],
   "source": [
    "def main():\n",
    "    weekday = datetime.date.today().weekday()\n",
    "#     print(weekday)\n",
    "    \n",
    "    USER_ID = info['USER_ID']\n",
    "    if (weekday == 6):\n",
    "        messages = TextSendMessage(text=\"今日は6限まである!死ぬな!\\n1.\\n2.メディア分析法(10:40~\\n3.\\n4.教育相談の理論と方法\\n5.教育相談の理論と方法\\n6.情報科指導法\")\n",
    "    elif (weekday == 0):\n",
    "        messages = TextSendMessage(text=\"1限[ビデオオン]あるぞ!起きて！\\n1.データベース入門\\n2.数学科指導法\\n3.インターラクティブシステム\\n4.\\n5.センサー入門\\n\")\n",
    "    elif (weekday == 1):\n",
    "        messages = TextSendMessage(text=\"今日は大学に行く日だ!\\n1.\\n2.自然言語処理\\n3.３年プロジェクト\\n4.\\n5.\\n\")\n",
    "    elif (weekday == 2):\n",
    "        messages = TextSendMessage(text=\"無の木曜日!\\n1.情報科学英語a\\n2.数理モデル\\n3.数理モデル\\n4.\\n5.情報数学a\\n\")\n",
    "    elif (weekday == 3):\n",
    "        messages = TextSendMessage(text=\"午前休でも起きて家事するぞ\\n1.\\n2.\\n3.情報科学c\\n4.ソフトウェア開発法\\n5.ソフトウェア開発法\\n\")\n",
    "    else:\n",
    "        messages = TextSendMessage(text=\"休日だけど、起きて!課題溜まってるでしょ！やれー！！！\")\n",
    "        \n",
    "    line_bot_api.push_message(USER_ID, messages=messages)\n",
    "\n",
    "# メッセージイベントの場合の処理\n",
    "@handler.add(MessageEvent, message=TextMessage)\n",
    "def handle_text_message(event):\n",
    "    # メッセージでもテキストの場合はオウム返しする\n",
    "    line_bot_api.reply_message(\n",
    "        event.reply_token,\n",
    "        TextSendMessage(text=event.message.text)\n",
    "    )\n",
    "\n",
    "if __name__ == \"__main__\":\n",
    "    main()"
   ]
  },
  {
   "cell_type": "code",
   "execution_count": null,
   "id": "3932c549-7087-4657-935a-5a2b5a8bfc6b",
   "metadata": {},
   "outputs": [],
   "source": []
  }
 ],
 "metadata": {
  "kernelspec": {
   "display_name": "Python 3 (ipykernel)",
   "language": "python",
   "name": "python3"
  },
  "language_info": {
   "codemirror_mode": {
    "name": "ipython",
    "version": 3
   },
   "file_extension": ".py",
   "mimetype": "text/x-python",
   "name": "python",
   "nbconvert_exporter": "python",
   "pygments_lexer": "ipython3",
   "version": "3.7.9"
  }
 },
 "nbformat": 4,
 "nbformat_minor": 5
}
