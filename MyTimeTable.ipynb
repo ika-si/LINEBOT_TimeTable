{
 "cells": [
  {
   "cell_type": "code",
   "execution_count": 1,
   "id": "a9652dc2-70d8-4516-a631-5eb9e348e905",
   "metadata": {},
   "outputs": [
    {
     "name": "stdout",
     "output_type": "stream",
     "text": [
      "Collecting line-bot-sdk\n",
      "  Downloading line_bot_sdk-1.19.0-py2.py3-none-any.whl (68 kB)\n",
      "\u001b[K     |████████████████████████████████| 68 kB 3.1 MB/s eta 0:00:01\n",
      "\u001b[?25hCollecting future\n",
      "  Downloading future-0.18.2.tar.gz (829 kB)\n",
      "\u001b[K     |████████████████████████████████| 829 kB 5.1 MB/s eta 0:00:01\n",
      "\u001b[?25hRequirement already satisfied: requests>=2.0 in /Users/yurika/opt/anaconda3/envs/LINEBOT/lib/python3.7/site-packages (from line-bot-sdk) (2.25.1)\n",
      "Requirement already satisfied: chardet<5,>=3.0.2 in /Users/yurika/opt/anaconda3/envs/LINEBOT/lib/python3.7/site-packages (from requests>=2.0->line-bot-sdk) (4.0.0)\n",
      "Requirement already satisfied: urllib3<1.27,>=1.21.1 in /Users/yurika/opt/anaconda3/envs/LINEBOT/lib/python3.7/site-packages (from requests>=2.0->line-bot-sdk) (1.26.4)\n",
      "Requirement already satisfied: idna<3,>=2.5 in /Users/yurika/opt/anaconda3/envs/LINEBOT/lib/python3.7/site-packages (from requests>=2.0->line-bot-sdk) (2.10)\n",
      "Requirement already satisfied: certifi>=2017.4.17 in /Users/yurika/opt/anaconda3/envs/LINEBOT/lib/python3.7/site-packages (from requests>=2.0->line-bot-sdk) (2020.12.5)\n",
      "Building wheels for collected packages: future\n",
      "  Building wheel for future (setup.py) ... \u001b[?25ldone\n",
      "\u001b[?25h  Created wheel for future: filename=future-0.18.2-py3-none-any.whl size=491059 sha256=e3ba97451b7a1e12c4a5258b61e5703e13c200019265ebd3501bfb6416fd3a9a\n",
      "  Stored in directory: /Users/yurika/Library/Caches/pip/wheels/56/b0/fe/4410d17b32f1f0c3cf54cdfb2bc04d7b4b8f4ae377e2229ba0\n",
      "Successfully built future\n",
      "Installing collected packages: future, line-bot-sdk\n",
      "Successfully installed future-0.18.2 line-bot-sdk-1.19.0\n"
     ]
    }
   ],
   "source": [
    "!pip install line-bot-sdk"
   ]
  },
  {
   "cell_type": "code",
   "execution_count": 2,
   "id": "c828fdf8-079c-475e-a738-aa32db87af1f",
   "metadata": {},
   "outputs": [],
   "source": [
    "import json"
   ]
  },
  {
   "cell_type": "code",
   "execution_count": 7,
   "id": "3dc08783-22c2-4bb8-9524-4470c3086563",
   "metadata": {},
   "outputs": [],
   "source": [
    "file = open('info.json', 'r')\n",
    "info = json.load(file)"
   ]
  },
  {
   "cell_type": "code",
   "execution_count": 8,
   "id": "df36be5a-3386-46a0-a06f-4e53144ac123",
   "metadata": {},
   "outputs": [
    {
     "data": {
      "text/plain": [
       "'ZPOw09RNrQF2f07w5954f5v9vxJpJACRfTpM7zX7NFhpiO2H0ZI3oQVLPcrq9p/35rXptjTSv/tbf+zdy5WhF59oS+N2Yev90cvzTydue0hAOM3euvPxVDQpvQDa+f7O6t05c9uz1OIZKPxyg5V+HAdB04t89/1O/w1cDnyilFU='"
      ]
     },
     "execution_count": 8,
     "metadata": {},
     "output_type": "execute_result"
    }
   ],
   "source": [
    "# info['CHANNEL_ACCESS_TOKEN']"
   ]
  },
  {
   "cell_type": "code",
   "execution_count": 9,
   "id": "996ba729-96bc-415e-a2c7-8d50211031cc",
   "metadata": {},
   "outputs": [],
   "source": [
    "from linebot import LineBotApi\n",
    "from linebot.models import TextSendMessage"
   ]
  },
  {
   "cell_type": "code",
   "execution_count": 10,
   "id": "fc039653-e48f-4660-9807-011aa2f135fb",
   "metadata": {},
   "outputs": [],
   "source": [
    "CHANNEL_ACCESS_TOKEN = info['CHANNEL_ACCESS_TOKEN']\n",
    "line_bot_api = LineBotApi(CHANNEL_ACCESS_TOKEN)"
   ]
  },
  {
   "cell_type": "code",
   "execution_count": 15,
   "id": "4873b302-7933-41cb-9152-a1549d20add9",
   "metadata": {},
   "outputs": [],
   "source": [
    "def main():\n",
    "    USER_ID = info['USER_ID']\n",
    "    messages = TextSendMessage(text=\"起きて！ \\n遅刻するよ！\")\n",
    "    line_bot_api.push_message(USER_ID, messages=messages)\n",
    "\n",
    "if __name__ == \"__main__\":\n",
    "    main()"
   ]
  },
  {
   "cell_type": "code",
   "execution_count": null,
   "id": "3932c549-7087-4657-935a-5a2b5a8bfc6b",
   "metadata": {},
   "outputs": [],
   "source": []
  }
 ],
 "metadata": {
  "kernelspec": {
   "display_name": "Python 3",
   "language": "python",
   "name": "python3"
  },
  "language_info": {
   "codemirror_mode": {
    "name": "ipython",
    "version": 3
   },
   "file_extension": ".py",
   "mimetype": "text/x-python",
   "name": "python",
   "nbconvert_exporter": "python",
   "pygments_lexer": "ipython3",
   "version": "3.7.10"
  }
 },
 "nbformat": 4,
 "nbformat_minor": 5
}
